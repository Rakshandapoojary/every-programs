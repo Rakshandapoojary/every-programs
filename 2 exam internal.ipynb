{
 "cells": [
  {
   "cell_type": "code",
   "execution_count": 118,
   "id": "5d424d77",
   "metadata": {},
   "outputs": [],
   "source": [
    "import pandas as pd\n",
    "import numpy as np\n",
    "import matplotlib.pyplot as plt"
   ]
  },
  {
   "cell_type": "code",
   "execution_count": null,
   "id": "003fef24",
   "metadata": {},
   "outputs": [],
   "source": []
  },
  {
   "cell_type": "code",
   "execution_count": 119,
   "id": "95583b0f",
   "metadata": {},
   "outputs": [
    {
     "data": {
      "text/html": [
       "<div>\n",
       "<style scoped>\n",
       "    .dataframe tbody tr th:only-of-type {\n",
       "        vertical-align: middle;\n",
       "    }\n",
       "\n",
       "    .dataframe tbody tr th {\n",
       "        vertical-align: top;\n",
       "    }\n",
       "\n",
       "    .dataframe thead th {\n",
       "        text-align: right;\n",
       "    }\n",
       "</style>\n",
       "<table border=\"1\" class=\"dataframe\">\n",
       "  <thead>\n",
       "    <tr style=\"text-align: right;\">\n",
       "      <th></th>\n",
       "      <th>n.prod</th>\n",
       "      <th>distance</th>\n",
       "      <th>delTime</th>\n",
       "    </tr>\n",
       "  </thead>\n",
       "  <tbody>\n",
       "    <tr>\n",
       "      <th>0</th>\n",
       "      <td>7</td>\n",
       "      <td>560</td>\n",
       "      <td>16.68</td>\n",
       "    </tr>\n",
       "    <tr>\n",
       "      <th>1</th>\n",
       "      <td>3</td>\n",
       "      <td>220</td>\n",
       "      <td>11.50</td>\n",
       "    </tr>\n",
       "    <tr>\n",
       "      <th>2</th>\n",
       "      <td>3</td>\n",
       "      <td>340</td>\n",
       "      <td>12.03</td>\n",
       "    </tr>\n",
       "    <tr>\n",
       "      <th>3</th>\n",
       "      <td>4</td>\n",
       "      <td>80</td>\n",
       "      <td>14.88</td>\n",
       "    </tr>\n",
       "    <tr>\n",
       "      <th>4</th>\n",
       "      <td>6</td>\n",
       "      <td>150</td>\n",
       "      <td>13.75</td>\n",
       "    </tr>\n",
       "    <tr>\n",
       "      <th>5</th>\n",
       "      <td>7</td>\n",
       "      <td>330</td>\n",
       "      <td>18.11</td>\n",
       "    </tr>\n",
       "    <tr>\n",
       "      <th>6</th>\n",
       "      <td>2</td>\n",
       "      <td>110</td>\n",
       "      <td>8.00</td>\n",
       "    </tr>\n",
       "    <tr>\n",
       "      <th>7</th>\n",
       "      <td>7</td>\n",
       "      <td>210</td>\n",
       "      <td>17.83</td>\n",
       "    </tr>\n",
       "    <tr>\n",
       "      <th>8</th>\n",
       "      <td>30</td>\n",
       "      <td>1460</td>\n",
       "      <td>79.24</td>\n",
       "    </tr>\n",
       "    <tr>\n",
       "      <th>9</th>\n",
       "      <td>5</td>\n",
       "      <td>605</td>\n",
       "      <td>21.50</td>\n",
       "    </tr>\n",
       "    <tr>\n",
       "      <th>10</th>\n",
       "      <td>16</td>\n",
       "      <td>688</td>\n",
       "      <td>40.33</td>\n",
       "    </tr>\n",
       "  </tbody>\n",
       "</table>\n",
       "</div>"
      ],
      "text/plain": [
       "    n.prod  distance  delTime\n",
       "0        7       560    16.68\n",
       "1        3       220    11.50\n",
       "2        3       340    12.03\n",
       "3        4        80    14.88\n",
       "4        6       150    13.75\n",
       "5        7       330    18.11\n",
       "6        2       110     8.00\n",
       "7        7       210    17.83\n",
       "8       30      1460    79.24\n",
       "9        5       605    21.50\n",
       "10      16       688    40.33"
      ]
     },
     "execution_count": 119,
     "metadata": {},
     "output_type": "execute_result"
    }
   ],
   "source": [
    "data=pd.read_csv(\"C:/Users/Admin/Desktop/delivery.duplicate2.csv\")\n",
    "data"
   ]
  },
  {
   "cell_type": "code",
   "execution_count": 120,
   "id": "6a53a99f",
   "metadata": {},
   "outputs": [
    {
     "data": {
      "text/html": [
       "<div>\n",
       "<style scoped>\n",
       "    .dataframe tbody tr th:only-of-type {\n",
       "        vertical-align: middle;\n",
       "    }\n",
       "\n",
       "    .dataframe tbody tr th {\n",
       "        vertical-align: top;\n",
       "    }\n",
       "\n",
       "    .dataframe thead th {\n",
       "        text-align: right;\n",
       "    }\n",
       "</style>\n",
       "<table border=\"1\" class=\"dataframe\">\n",
       "  <thead>\n",
       "    <tr style=\"text-align: right;\">\n",
       "      <th></th>\n",
       "      <th>n.prod</th>\n",
       "      <th>distance</th>\n",
       "      <th>delTime</th>\n",
       "    </tr>\n",
       "  </thead>\n",
       "  <tbody>\n",
       "    <tr>\n",
       "      <th>0</th>\n",
       "      <td>7</td>\n",
       "      <td>560</td>\n",
       "      <td>16.68</td>\n",
       "    </tr>\n",
       "    <tr>\n",
       "      <th>1</th>\n",
       "      <td>3</td>\n",
       "      <td>220</td>\n",
       "      <td>11.50</td>\n",
       "    </tr>\n",
       "    <tr>\n",
       "      <th>2</th>\n",
       "      <td>3</td>\n",
       "      <td>340</td>\n",
       "      <td>12.03</td>\n",
       "    </tr>\n",
       "    <tr>\n",
       "      <th>3</th>\n",
       "      <td>4</td>\n",
       "      <td>80</td>\n",
       "      <td>14.88</td>\n",
       "    </tr>\n",
       "    <tr>\n",
       "      <th>4</th>\n",
       "      <td>6</td>\n",
       "      <td>150</td>\n",
       "      <td>13.75</td>\n",
       "    </tr>\n",
       "    <tr>\n",
       "      <th>5</th>\n",
       "      <td>7</td>\n",
       "      <td>330</td>\n",
       "      <td>18.11</td>\n",
       "    </tr>\n",
       "    <tr>\n",
       "      <th>6</th>\n",
       "      <td>2</td>\n",
       "      <td>110</td>\n",
       "      <td>8.00</td>\n",
       "    </tr>\n",
       "    <tr>\n",
       "      <th>7</th>\n",
       "      <td>7</td>\n",
       "      <td>210</td>\n",
       "      <td>17.83</td>\n",
       "    </tr>\n",
       "    <tr>\n",
       "      <th>8</th>\n",
       "      <td>30</td>\n",
       "      <td>1460</td>\n",
       "      <td>79.24</td>\n",
       "    </tr>\n",
       "    <tr>\n",
       "      <th>9</th>\n",
       "      <td>5</td>\n",
       "      <td>605</td>\n",
       "      <td>21.50</td>\n",
       "    </tr>\n",
       "    <tr>\n",
       "      <th>10</th>\n",
       "      <td>16</td>\n",
       "      <td>688</td>\n",
       "      <td>40.33</td>\n",
       "    </tr>\n",
       "  </tbody>\n",
       "</table>\n",
       "</div>"
      ],
      "text/plain": [
       "    n.prod  distance  delTime\n",
       "0        7       560    16.68\n",
       "1        3       220    11.50\n",
       "2        3       340    12.03\n",
       "3        4        80    14.88\n",
       "4        6       150    13.75\n",
       "5        7       330    18.11\n",
       "6        2       110     8.00\n",
       "7        7       210    17.83\n",
       "8       30      1460    79.24\n",
       "9        5       605    21.50\n",
       "10      16       688    40.33"
      ]
     },
     "execution_count": 120,
     "metadata": {},
     "output_type": "execute_result"
    }
   ],
   "source": [
    "data.isnull()\n",
    "data"
   ]
  },
  {
   "cell_type": "code",
   "execution_count": 121,
   "id": "f23e1a64",
   "metadata": {},
   "outputs": [
    {
     "data": {
      "text/plain": [
       "{'whiskers': [<matplotlib.lines.Line2D at 0x13c96c02df0>,\n",
       "  <matplotlib.lines.Line2D at 0x13c96c0e100>],\n",
       " 'caps': [<matplotlib.lines.Line2D at 0x13c96c0e3d0>,\n",
       "  <matplotlib.lines.Line2D at 0x13c96c0e640>],\n",
       " 'boxes': [<matplotlib.lines.Line2D at 0x13c96c02b20>],\n",
       " 'medians': [<matplotlib.lines.Line2D at 0x13c96c0e910>],\n",
       " 'fliers': [<matplotlib.lines.Line2D at 0x13c96c0ebe0>],\n",
       " 'means': []}"
      ]
     },
     "execution_count": 121,
     "metadata": {},
     "output_type": "execute_result"
    },
    {
     "data": {
      "image/png": "[encoded data removed]",
      "text/plain": [
       "<Figure size 432x288 with 1 Axes>"
      ]
     },
     "metadata": {
      "needs_background": "light"
     },
     "output_type": "display_data"
    }
   ],
   "source": [
    "plt.boxplot(data['distance'])"
   ]
  },
  {
   "cell_type": "code",
   "execution_count": 122,
   "id": "77fcefbc",
   "metadata": {},
   "outputs": [
    {
     "data": {
      "image/png": "[encoded data removed]",
      "text/plain": [
       "<Figure size 432x288 with 1 Axes>"
      ]
     },
     "metadata": {
      "needs_background": "light"
     },
     "output_type": "display_data"
    }
   ],
   "source": [
    "for i in data['distance']:\n",
    "    q1=data['distance'].quantile(0.25)\n",
    "    q3=data['distance'].quantile(0.75)\n",
    "    iqr=q3-q1\n",
    "    lower_tail=q1-1.5*iqr\n",
    "    upper_tail=q3+1.5*iqr\n",
    "    if i>upper_tail or i<lower_tail:\n",
    "     data['distance']=data['distance'].replace(i,np.mean(data['distance']))\n",
    "plt.boxplot(data['distance'])\n",
    "plt.show()"
   ]
  },
  {
   "cell_type": "code",
   "execution_count": 123,
   "id": "bbe3b036",
   "metadata": {},
   "outputs": [
    {
     "data": {
      "text/plain": [
       "array([[-0.15192474,  1.11160065, -0.32797229],\n",
       "       [-0.66613153, -0.59580865, -0.59353802],\n",
       "       [-0.66613153,  0.0068064 , -0.56636624],\n",
       "       [-0.53757983, -1.29885954, -0.42025382],\n",
       "       [-0.28047644, -0.94733409, -0.47818611],\n",
       "       [-0.15192474, -0.04341152, -0.25465974],\n",
       "       [-0.79468323, -1.14820578, -0.77297433],\n",
       "       [-0.15192474, -0.64602657, -0.26901464],\n",
       "       [ 2.80476435,  0.46926779,  2.87932355],\n",
       "       [-0.40902814,  1.33758129, -0.08086286],\n",
       "       [ 1.00504056,  1.75439003,  0.88450448]])"
      ]
     },
     "execution_count": 123,
     "metadata": {},
     "output_type": "execute_result"
    }
   ],
   "source": [
    "from sklearn.preprocessing import StandardScaler\n",
    "# finding the mean and std deviation of numerical columns\n",
    "scaler = StandardScaler().fit(data[['n.prod','distance','delTime']]) \n",
    "# scaling columns to a common range\n",
    "data_normalized = scaler.transform(data[['n.prod','distance','delTime']])# Scaled data \n",
    "#note that output is a 2-Dimensional array of normalized data\n",
    "data_normalized\n"
   ]
  },
  {
   "cell_type": "code",
   "execution_count": 124,
   "id": "1a21e1e7",
   "metadata": {},
   "outputs": [
    {
     "data": {
      "text/html": [
       "<div>\n",
       "<style scoped>\n",
       "    .dataframe tbody tr th:only-of-type {\n",
       "        vertical-align: middle;\n",
       "    }\n",
       "\n",
       "    .dataframe tbody tr th {\n",
       "        vertical-align: top;\n",
       "    }\n",
       "\n",
       "    .dataframe thead th {\n",
       "        text-align: right;\n",
       "    }\n",
       "</style>\n",
       "<table border=\"1\" class=\"dataframe\">\n",
       "  <thead>\n",
       "    <tr style=\"text-align: right;\">\n",
       "      <th></th>\n",
       "      <th>n.prod</th>\n",
       "      <th>distance</th>\n",
       "      <th>delTime</th>\n",
       "    </tr>\n",
       "  </thead>\n",
       "  <tbody>\n",
       "    <tr>\n",
       "      <th>0</th>\n",
       "      <td>-0.151925</td>\n",
       "      <td>1.111601</td>\n",
       "      <td>-0.327972</td>\n",
       "    </tr>\n",
       "    <tr>\n",
       "      <th>1</th>\n",
       "      <td>-0.666132</td>\n",
       "      <td>-0.595809</td>\n",
       "      <td>-0.593538</td>\n",
       "    </tr>\n",
       "    <tr>\n",
       "      <th>2</th>\n",
       "      <td>-0.666132</td>\n",
       "      <td>0.006806</td>\n",
       "      <td>-0.566366</td>\n",
       "    </tr>\n",
       "    <tr>\n",
       "      <th>3</th>\n",
       "      <td>-0.537580</td>\n",
       "      <td>-1.298860</td>\n",
       "      <td>-0.420254</td>\n",
       "    </tr>\n",
       "    <tr>\n",
       "      <th>4</th>\n",
       "      <td>-0.280476</td>\n",
       "      <td>-0.947334</td>\n",
       "      <td>-0.478186</td>\n",
       "    </tr>\n",
       "    <tr>\n",
       "      <th>5</th>\n",
       "      <td>-0.151925</td>\n",
       "      <td>-0.043412</td>\n",
       "      <td>-0.254660</td>\n",
       "    </tr>\n",
       "    <tr>\n",
       "      <th>6</th>\n",
       "      <td>-0.794683</td>\n",
       "      <td>-1.148206</td>\n",
       "      <td>-0.772974</td>\n",
       "    </tr>\n",
       "    <tr>\n",
       "      <th>7</th>\n",
       "      <td>-0.151925</td>\n",
       "      <td>-0.646027</td>\n",
       "      <td>-0.269015</td>\n",
       "    </tr>\n",
       "    <tr>\n",
       "      <th>8</th>\n",
       "      <td>2.804764</td>\n",
       "      <td>0.469268</td>\n",
       "      <td>2.879324</td>\n",
       "    </tr>\n",
       "    <tr>\n",
       "      <th>9</th>\n",
       "      <td>-0.409028</td>\n",
       "      <td>1.337581</td>\n",
       "      <td>-0.080863</td>\n",
       "    </tr>\n",
       "    <tr>\n",
       "      <th>10</th>\n",
       "      <td>1.005041</td>\n",
       "      <td>1.754390</td>\n",
       "      <td>0.884504</td>\n",
       "    </tr>\n",
       "  </tbody>\n",
       "</table>\n",
       "</div>"
      ],
      "text/plain": [
       "      n.prod  distance   delTime\n",
       "0  -0.151925  1.111601 -0.327972\n",
       "1  -0.666132 -0.595809 -0.593538\n",
       "2  -0.666132  0.006806 -0.566366\n",
       "3  -0.537580 -1.298860 -0.420254\n",
       "4  -0.280476 -0.947334 -0.478186\n",
       "5  -0.151925 -0.043412 -0.254660\n",
       "6  -0.794683 -1.148206 -0.772974\n",
       "7  -0.151925 -0.646027 -0.269015\n",
       "8   2.804764  0.469268  2.879324\n",
       "9  -0.409028  1.337581 -0.080863\n",
       "10  1.005041  1.754390  0.884504"
      ]
     },
     "execution_count": 124,
     "metadata": {},
     "output_type": "execute_result"
    }
   ],
   "source": [
    "#updating the numerical(normalized) data into the dataframe\n",
    "data_normalized=pd.DataFrame(data_normalized,columns=['n.prod','distance','delTime'])\n",
    "data_normalized=data_normalized.join(data[data.columns.drop(['n.prod','distance','delTime'])])\n",
    "data_normalized"
   ]
  },
  {
   "cell_type": "code",
   "execution_count": 109,
   "id": "c9d7c38a",
   "metadata": {},
   "outputs": [
    {
     "data": {
      "text/plain": [
       "(array([3., 2., 3., 1., 2.]),\n",
       " array([ 80. , 201.6, 323.2, 444.8, 566.4, 688. ]),\n",
       " <BarContainer object of 5 artists>)"
      ]
     },
     "execution_count": 109,
     "metadata": {},
     "output_type": "execute_result"
    },
    {
     "data": {
      "image/png": "[encoded data removed]",
      "text/plain": [
       "<Figure size 432x288 with 1 Axes>"
      ]
     },
     "metadata": {
      "needs_background": "light"
     },
     "output_type": "display_data"
    }
   ],
   "source": [
    "plt.hist(data['distance'],bins=)"
   ]
  },
  {
   "cell_type": "code",
   "execution_count": 125,
   "id": "5af92f31",
   "metadata": {},
   "outputs": [
    {
     "data": {
      "text/plain": [
       "<matplotlib.collections.PathCollection at 0x13c96c727f0>"
      ]
     },
     "execution_count": 125,
     "metadata": {},
     "output_type": "execute_result"
    },
    {
     "data": {
      "image/png": "[encoded data removed]",
      "text/plain": [
       "<Figure size 432x288 with 1 Axes>"
      ]
     },
     "metadata": {
      "needs_background": "light"
     },
     "output_type": "display_data"
    }
   ],
   "source": [
    "plt.scatter(data['n.prod'],data['delTime'])"
   ]
  },
  {
   "cell_type": "code",
   "execution_count": 110,
   "id": "a5ee97b3",
   "metadata": {},
   "outputs": [
    {
     "name": "stdout",
     "output_type": "stream",
     "text": [
      "Index(['n.prod_2', 'n.prod_3', 'n.prod_4', 'n.prod_5', 'n.prod_6', 'n.prod_7',\n",
      "       'n.prod_16', 'n.prod_30', 'distance_80.0', 'distance_110.0',\n",
      "       'distance_150.0', 'distance_210.0', 'distance_220.0', 'distance_330.0',\n",
      "       'distance_340.0', 'distance_432.09090909090907', 'distance_560.0',\n",
      "       'distance_605.0', 'distance_688.0', 'delTime_8.0', 'delTime_11.5',\n",
      "       'delTime_12.03', 'delTime_13.75', 'delTime_14.88', 'delTime_16.68',\n",
      "       'delTime_17.83', 'delTime_18.11', 'delTime_21.5', 'delTime_40.33',\n",
      "       'delTime_79.24'],\n",
      "      dtype='object')\n"
     ]
    }
   ],
   "source": [
    "# encoding categorical values\n",
    "cat_features = [\"n.prod\",\"distance\",\"delTime\"]\n",
    "data= pd.get_dummies(data,columns=cat_features)\n",
    "print(data.columns)\n"
   ]
  },
  {
   "cell_type": "code",
   "execution_count": 131,
   "id": "dc15573a",
   "metadata": {},
   "outputs": [
    {
     "name": "stdout",
     "output_type": "stream",
     "text": [
      "    n.prod    distance  delTime    lables\n",
      "0        7  560.000000    16.68   1 to 20\n",
      "1        3  220.000000    11.50   1 to 20\n",
      "2        3  340.000000    12.03   1 to 20\n",
      "3        4   80.000000    14.88   1 to 20\n",
      "4        6  150.000000    13.75   1 to 20\n",
      "5        7  330.000000    18.11   1 to 20\n",
      "6        2  110.000000     8.00   1 to 20\n",
      "7        7  210.000000    17.83   1 to 20\n",
      "8       30  432.090909    79.24  21 to 40\n",
      "9        5  605.000000    21.50   1 to 20\n",
      "10      16  688.000000    40.33   1 to 20\n",
      "['1 to 20', '21 to 40']\n",
      "Categories (5, object): ['1 to 20' < '21 to 40' < '41 to 60' < '61 to 80' < '81 to 100']\n"
     ]
    }
   ],
   "source": [
    "data['lables'] = pd.cut(x=data['n.prod'], bins=[1, 20, 40, 60, 80, 100],\n",
    "                    labels=['1 to 20', '21 to 40', '41 to 60',\n",
    "                            '61 to 80', '81 to 100'])\n",
    " \n",
    "print(data)\n",
    "print(data['lables'].unique())"
   ]
  },
  {
   "cell_type": "code",
   "execution_count": null,
   "id": "4e214b5e",
   "metadata": {},
   "outputs": [],
   "source": []
  }
 ],
 "metadata": {
  "kernelspec": {
   "display_name": "Python 3 (ipykernel)",
   "language": "python",
   "name": "python3"
  },
  "language_info": {
   "codemirror_mode": {
    "name": "ipython",
    "version": 3
   },
   "file_extension": ".py",
   "mimetype": "text/x-python",
   "name": "python",
   "nbconvert_exporter": "python",
   "pygments_lexer": "ipython3",
   "version": "3.9.12"
  }
 },
 "nbformat": 4,
 "nbformat_minor": 5
}
