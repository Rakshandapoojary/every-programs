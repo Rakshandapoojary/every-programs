{
 "cells": [
  {
   "cell_type": "code",
   "execution_count": 1,
   "id": "229b1aed",
   "metadata": {},
   "outputs": [
    {
     "name": "stdout",
     "output_type": "stream",
     "text": [
      "0    1\n",
      "1    2\n",
      "5    6\n",
      "6    7\n",
      "dtype: int64\n"
     ]
    }
   ],
   "source": [
    "# import the modules\n",
    "import pandas as pd\n",
    "import numpy as np\n",
    "\n",
    "# create the series\n",
    "ser1 = pd.Series([1, 2, 3, 4, 5])\n",
    "ser2 = pd.Series([3, 4, 5, 6, 7])\n",
    "\n",
    "# union of the series\n",
    "union = pd.Series(np.union1d(ser1, ser2))\n",
    "\n",
    "# intersection of the series\n",
    "intersect = pd.Series(np.intersect1d(ser1, ser2))\n",
    "\n",
    "# uncommon elements in both the series\n",
    "notcommonseries = union[~union.isin(intersect)]\n",
    "\n",
    "# displaying the result\n",
    "print(notcommonseries)\n"
   ]
  },
  {
   "cell_type": "code",
   "execution_count": 4,
   "id": "85c44f5b",
   "metadata": {},
   "outputs": [
    {
     "name": "stdout",
     "output_type": "stream",
     "text": [
      "0    1\n",
      "1    2\n",
      "2    3\n",
      "3    4\n",
      "4    5\n",
      "5    6\n",
      "6    7\n",
      "7    8\n",
      "dtype: int64\n"
     ]
    }
   ],
   "source": [
    "import pandas as pd\n",
    "import numpy as np\n",
    "ser1=pd.Series([1,2,3,4,5])\n",
    "ser2=pd.Series([4,5,6,7,8])\n",
    "union=pd.Series(np.union1d(ser1,ser2))\n",
    "print(union)"
   ]
  },
  {
   "cell_type": "code",
   "execution_count": 7,
   "id": "a49cbd7e",
   "metadata": {},
   "outputs": [
    {
     "name": "stdout",
     "output_type": "stream",
     "text": [
      "0    4\n",
      "1    5\n",
      "dtype: int64\n"
     ]
    }
   ],
   "source": [
    "intersect=pd.Series(np.intersect1d(ser1,ser2))\n",
    "print(intersect)"
   ]
  },
  {
   "cell_type": "code",
   "execution_count": null,
   "id": "d5886806",
   "metadata": {},
   "outputs": [],
   "source": [
    "notcommonseries=union[~union]"
   ]
  }
 ],
 "metadata": {
  "kernelspec": {
   "display_name": "Python 3 (ipykernel)",
   "language": "python",
   "name": "python3"
  },
  "language_info": {
   "codemirror_mode": {
    "name": "ipython",
    "version": 3
   },
   "file_extension": ".py",
   "mimetype": "text/x-python",
   "name": "python",
   "nbconvert_exporter": "python",
   "pygments_lexer": "ipython3",
   "version": "3.9.12"
  }
 },
 "nbformat": 4,
 "nbformat_minor": 5
}
