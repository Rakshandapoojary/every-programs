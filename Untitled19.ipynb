{
 "cells": [
  {
   "cell_type": "code",
   "execution_count": 1,
   "id": "27e2a523",
   "metadata": {},
   "outputs": [],
   "source": [
    "import turtle\n",
    " \n",
    "# function to draw\n",
    "# colored star\n",
    "def colored_star():\n",
    "     \n",
    "    # size of star\n",
    "    size = 80\n",
    "     \n",
    "    # object color\n",
    "    turtle.color(\"red\")\n",
    "     \n",
    "    # object width\n",
    "    turtle.width(4)\n",
    "     \n",
    "    # angle to form star\n",
    "    angle = 120\n",
    "     \n",
    "    # color to fill\n",
    "    turtle.fillcolor(\"yellow\")\n",
    "    turtle.begin_fill()\n",
    "     \n",
    "    # form star\n",
    "    for side in range(5):\n",
    "        turtle.forward(size)\n",
    "        turtle.right(angle)\n",
    "        turtle.forward(size)\n",
    "        turtle.right(72 - angle)\n",
    "         \n",
    "    # fill color\n",
    "    turtle.end_fill()\n",
    " \n",
    "# Driver code\n",
    "colored_star()"
   ]
  },
  {
   "cell_type": "code",
   "execution_count": null,
   "id": "b0df5575",
   "metadata": {},
   "outputs": [],
   "source": []
  },
  {
   "cell_type": "code",
   "execution_count": null,
   "id": "1e4f31cb",
   "metadata": {},
   "outputs": [],
   "source": []
  }
 ],
 "metadata": {
  "kernelspec": {
   "display_name": "Python 3 (ipykernel)",
   "language": "python",
   "name": "python3"
  },
  "language_info": {
   "codemirror_mode": {
    "name": "ipython",
    "version": 3
   },
   "file_extension": ".py",
   "mimetype": "text/x-python",
   "name": "python",
   "nbconvert_exporter": "python",
   "pygments_lexer": "ipython3",
   "version": "3.9.12"
  }
 },
 "nbformat": 4,
 "nbformat_minor": 5
}
