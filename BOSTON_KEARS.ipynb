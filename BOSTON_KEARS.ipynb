{
 "cells": [
  {
   "cell_type": "code",
   "execution_count": 6,
   "id": "247a666d",
   "metadata": {},
   "outputs": [],
   "source": [
    "import pandas as pd\n",
    "import numpy as np\n",
    "import seaborn as sns\n",
    "import matplotlib.pyplot as plt\n",
    "import warnings\n",
    "%matplotlib inline\n",
    "warnings.filterwarnings('ignore')\n",
    "from keras.models import Sequential\n",
    "from keras.layers import Dense\n",
    "from sklearn import linear_model\n",
    "from sklearn.metrics import mean_squared_error, mean_absolute_error"
   ]
  },
  {
   "cell_type": "code",
   "execution_count": 2,
   "id": "f042fd18",
   "metadata": {},
   "outputs": [],
   "source": [
    "from tensorflow.keras.datasets import boston_housing"
   ]
  },
  {
   "cell_type": "code",
   "execution_count": 3,
   "id": "a6048840",
   "metadata": {},
   "outputs": [
    {
     "name": "stdout",
     "output_type": "stream",
     "text": [
      "Downloading data from https://storage.googleapis.com/tensorflow/tf-keras-datasets/boston_housing.npz\n",
      "57026/57026 [==============================] - 0s 2us/step\n"
     ]
    }
   ],
   "source": [
    "(X_train,y_train),(X_test,y_test)=boston_housing.load_data()"
   ]
  },
  {
   "cell_type": "code",
   "execution_count": 9,
   "id": "604193d6",
   "metadata": {},
   "outputs": [
    {
     "data": {
      "text/plain": [
       "array([[ 1.55369355, -0.48361547,  1.0283258 , ...,  0.78447637,\n",
       "        -3.48459553,  2.25092074],\n",
       "       [-0.39242675, -0.48361547, -0.16087773, ..., -0.30759583,\n",
       "         0.42733126,  0.47880119],\n",
       "       [-0.39982927, -0.48361547, -0.86940196, ...,  0.78447637,\n",
       "         0.44807713, -0.41415936],\n",
       "       ...,\n",
       "       [-0.20709507, -0.48361547,  1.24588095, ..., -1.71818909,\n",
       "         0.37051949, -1.49344089],\n",
       "       [-0.36698601, -0.48361547, -0.72093526, ..., -0.48960787,\n",
       "         0.39275481, -0.41829982],\n",
       "       [-0.0889679 , -0.48361547,  1.24588095, ..., -1.71818909,\n",
       "        -1.21946544, -0.40449827]])"
      ]
     },
     "execution_count": 9,
     "metadata": {},
     "output_type": "execute_result"
    }
   ],
   "source": [
    "from sklearn.preprocessing import StandardScaler\n",
    "scaler=StandardScaler()\n",
    "scaler.fit(X_train)\n",
    "X_train_scaled = scaler.transform(X_train)\n",
    "X_test_scaled = scaler.transform(X_test)\n",
    "X_train_scaled\n",
    "X_test_scaled"
   ]
  },
  {
   "cell_type": "code",
   "execution_count": 10,
   "id": "0dad3ead",
   "metadata": {},
   "outputs": [],
   "source": [
    "model = Sequential()\n",
    "model.add(Dense(128, input_dim=13, activation='relu'))\n",
    "model.add(Dense(64, activation='relu'))\n",
    "model.add(Dense(1, activation='linear'))\n"
   ]
  },
  {
   "cell_type": "code",
   "execution_count": 11,
   "id": "e452128e",
   "metadata": {},
   "outputs": [
    {
     "name": "stdout",
     "output_type": "stream",
     "text": [
      "Model: \"sequential\"\n",
      "_________________________________________________________________\n",
      " Layer (type)                Output Shape              Param #   \n",
      "=================================================================\n",
      " dense (Dense)               (None, 128)               1792      \n",
      "                                                                 \n",
      " dense_1 (Dense)             (None, 64)                8256      \n",
      "                                                                 \n",
      " dense_2 (Dense)             (None, 1)                 65        \n",
      "                                                                 \n",
      "=================================================================\n",
      "Total params: 10,113\n",
      "Trainable params: 10,113\n",
      "Non-trainable params: 0\n",
      "_________________________________________________________________\n"
     ]
    }
   ],
   "source": [
    "model.compile(loss='mean_squared_error', optimizer='adam', metrics=['mae'])\n",
    "model.summary()"
   ]
  },
  {
   "cell_type": "code",
   "execution_count": 12,
   "id": "4bebfd51",
   "metadata": {},
   "outputs": [
    {
     "name": "stdout",
     "output_type": "stream",
     "text": [
      "Epoch 1/100\n",
      "11/11 [==============================] - 2s 28ms/step - loss: 534.9650 - mae: 21.2140 - val_loss: 563.4124 - val_mae: 21.8923\n",
      "Epoch 2/100\n",
      "11/11 [==============================] - 0s 4ms/step - loss: 469.4310 - mae: 19.5013 - val_loss: 484.8638 - val_mae: 19.9763\n",
      "Epoch 3/100\n",
      "11/11 [==============================] - 0s 4ms/step - loss: 388.7391 - mae: 17.2787 - val_loss: 380.8306 - val_mae: 17.2989\n",
      "Epoch 4/100\n",
      "11/11 [==============================] - 0s 3ms/step - loss: 285.0828 - mae: 14.3287 - val_loss: 256.5194 - val_mae: 13.7258\n",
      "Epoch 5/100\n",
      "11/11 [==============================] - 0s 4ms/step - loss: 171.2224 - mae: 10.7202 - val_loss: 137.0709 - val_mae: 9.4670\n",
      "Epoch 6/100\n",
      "11/11 [==============================] - 0s 3ms/step - loss: 82.5902 - mae: 7.0066 - val_loss: 65.7661 - val_mae: 6.1527\n",
      "Epoch 7/100\n",
      "11/11 [==============================] - 0s 4ms/step - loss: 49.0260 - mae: 5.2029 - val_loss: 46.9847 - val_mae: 5.3002\n",
      "Epoch 8/100\n",
      "11/11 [==============================] - 0s 4ms/step - loss: 39.7271 - mae: 4.5567 - val_loss: 36.6400 - val_mae: 4.7201\n",
      "Epoch 9/100\n",
      "11/11 [==============================] - 0s 4ms/step - loss: 31.4675 - mae: 4.1041 - val_loss: 30.8237 - val_mae: 4.3392\n",
      "Epoch 10/100\n",
      "11/11 [==============================] - 0s 4ms/step - loss: 27.9257 - mae: 3.8866 - val_loss: 28.1991 - val_mae: 4.1052\n",
      "Epoch 11/100\n",
      "11/11 [==============================] - 0s 4ms/step - loss: 25.1736 - mae: 3.6734 - val_loss: 25.7916 - val_mae: 3.9392\n",
      "Epoch 12/100\n",
      "11/11 [==============================] - 0s 4ms/step - loss: 23.1071 - mae: 3.4457 - val_loss: 24.2785 - val_mae: 3.7966\n",
      "Epoch 13/100\n",
      "11/11 [==============================] - 0s 3ms/step - loss: 21.7891 - mae: 3.2867 - val_loss: 23.2727 - val_mae: 3.7559\n",
      "Epoch 14/100\n",
      "11/11 [==============================] - 0s 3ms/step - loss: 20.7485 - mae: 3.1854 - val_loss: 22.6334 - val_mae: 3.7532\n",
      "Epoch 15/100\n",
      "11/11 [==============================] - 0s 5ms/step - loss: 19.9930 - mae: 3.1213 - val_loss: 21.5568 - val_mae: 3.6481\n",
      "Epoch 16/100\n",
      "11/11 [==============================] - 0s 4ms/step - loss: 19.1088 - mae: 3.0392 - val_loss: 20.6838 - val_mae: 3.5294\n",
      "Epoch 17/100\n",
      "11/11 [==============================] - 0s 4ms/step - loss: 18.4457 - mae: 2.9707 - val_loss: 20.0830 - val_mae: 3.4816\n",
      "Epoch 18/100\n",
      "11/11 [==============================] - 0s 5ms/step - loss: 17.8028 - mae: 2.9280 - val_loss: 19.6309 - val_mae: 3.4788\n",
      "Epoch 19/100\n",
      "11/11 [==============================] - 0s 4ms/step - loss: 17.1899 - mae: 2.8907 - val_loss: 19.1131 - val_mae: 3.4387\n",
      "Epoch 20/100\n",
      "11/11 [==============================] - 0s 3ms/step - loss: 16.8045 - mae: 2.8600 - val_loss: 18.5224 - val_mae: 3.3338\n",
      "Epoch 21/100\n",
      "11/11 [==============================] - 0s 4ms/step - loss: 16.0460 - mae: 2.8002 - val_loss: 18.1591 - val_mae: 3.3440\n",
      "Epoch 22/100\n",
      "11/11 [==============================] - 0s 5ms/step - loss: 15.5348 - mae: 2.7489 - val_loss: 17.7826 - val_mae: 3.3124\n",
      "Epoch 23/100\n",
      "11/11 [==============================] - 0s 3ms/step - loss: 15.0378 - mae: 2.7060 - val_loss: 17.4143 - val_mae: 3.2429\n",
      "Epoch 24/100\n",
      "11/11 [==============================] - 0s 5ms/step - loss: 14.6769 - mae: 2.6885 - val_loss: 17.3618 - val_mae: 3.2101\n",
      "Epoch 25/100\n",
      "11/11 [==============================] - 0s 4ms/step - loss: 14.2060 - mae: 2.6365 - val_loss: 17.0599 - val_mae: 3.1944\n",
      "Epoch 26/100\n",
      "11/11 [==============================] - 0s 5ms/step - loss: 13.8971 - mae: 2.5818 - val_loss: 16.8369 - val_mae: 3.2126\n",
      "Epoch 27/100\n",
      "11/11 [==============================] - 0s 5ms/step - loss: 13.5731 - mae: 2.5530 - val_loss: 16.5837 - val_mae: 3.1195\n",
      "Epoch 28/100\n",
      "11/11 [==============================] - 0s 4ms/step - loss: 13.2997 - mae: 2.5572 - val_loss: 16.2848 - val_mae: 3.0316\n",
      "Epoch 29/100\n",
      "11/11 [==============================] - 0s 4ms/step - loss: 12.9241 - mae: 2.5222 - val_loss: 16.0620 - val_mae: 3.1046\n",
      "Epoch 30/100\n",
      "11/11 [==============================] - 0s 3ms/step - loss: 12.8944 - mae: 2.5424 - val_loss: 16.1280 - val_mae: 3.1161\n",
      "Epoch 31/100\n",
      "11/11 [==============================] - 0s 4ms/step - loss: 12.4748 - mae: 2.4656 - val_loss: 15.5700 - val_mae: 2.9683\n",
      "Epoch 32/100\n",
      "11/11 [==============================] - 0s 5ms/step - loss: 12.1200 - mae: 2.4476 - val_loss: 15.6847 - val_mae: 3.0019\n",
      "Epoch 33/100\n",
      "11/11 [==============================] - 0s 3ms/step - loss: 11.8314 - mae: 2.4225 - val_loss: 15.5481 - val_mae: 3.0017\n",
      "Epoch 34/100\n",
      "11/11 [==============================] - 0s 4ms/step - loss: 11.5877 - mae: 2.3755 - val_loss: 15.4486 - val_mae: 2.9928\n",
      "Epoch 35/100\n",
      "11/11 [==============================] - 0s 4ms/step - loss: 11.4971 - mae: 2.3872 - val_loss: 16.1289 - val_mae: 3.0498\n",
      "Epoch 36/100\n",
      "11/11 [==============================] - 0s 3ms/step - loss: 11.3838 - mae: 2.3954 - val_loss: 15.5522 - val_mae: 3.0007\n",
      "Epoch 37/100\n",
      "11/11 [==============================] - 0s 5ms/step - loss: 11.5217 - mae: 2.3295 - val_loss: 14.8086 - val_mae: 2.9419\n",
      "Epoch 38/100\n",
      "11/11 [==============================] - 0s 5ms/step - loss: 11.0486 - mae: 2.2936 - val_loss: 14.9342 - val_mae: 2.9107\n",
      "Epoch 39/100\n",
      "11/11 [==============================] - 0s 6ms/step - loss: 10.6898 - mae: 2.2769 - val_loss: 15.0342 - val_mae: 2.8736\n",
      "Epoch 40/100\n",
      "11/11 [==============================] - 0s 4ms/step - loss: 10.6469 - mae: 2.2756 - val_loss: 15.1405 - val_mae: 2.8928\n",
      "Epoch 41/100\n",
      "11/11 [==============================] - 0s 3ms/step - loss: 10.8210 - mae: 2.3065 - val_loss: 15.0875 - val_mae: 2.8307\n",
      "Epoch 42/100\n",
      "11/11 [==============================] - 0s 4ms/step - loss: 10.4172 - mae: 2.2427 - val_loss: 14.8224 - val_mae: 2.9020\n",
      "Epoch 43/100\n",
      "11/11 [==============================] - 0s 4ms/step - loss: 10.2737 - mae: 2.2224 - val_loss: 14.8617 - val_mae: 2.8485\n",
      "Epoch 44/100\n",
      "11/11 [==============================] - 0s 4ms/step - loss: 10.0668 - mae: 2.2092 - val_loss: 14.9715 - val_mae: 2.8337\n",
      "Epoch 45/100\n",
      "11/11 [==============================] - 0s 3ms/step - loss: 9.9655 - mae: 2.2044 - val_loss: 14.8659 - val_mae: 2.8252\n",
      "Epoch 46/100\n",
      "11/11 [==============================] - 0s 4ms/step - loss: 9.8932 - mae: 2.1877 - val_loss: 14.9551 - val_mae: 2.7998\n",
      "Epoch 47/100\n",
      "11/11 [==============================] - 0s 4ms/step - loss: 10.5728 - mae: 2.3662 - val_loss: 17.6553 - val_mae: 3.0038\n",
      "Epoch 48/100\n",
      "11/11 [==============================] - 0s 4ms/step - loss: 10.3356 - mae: 2.3041 - val_loss: 15.3304 - val_mae: 2.8934\n",
      "Epoch 49/100\n",
      "11/11 [==============================] - 0s 4ms/step - loss: 9.9475 - mae: 2.2424 - val_loss: 15.1499 - val_mae: 2.8570\n",
      "Epoch 50/100\n",
      "11/11 [==============================] - 0s 4ms/step - loss: 9.6925 - mae: 2.2076 - val_loss: 15.6349 - val_mae: 2.9405\n",
      "Epoch 51/100\n",
      "11/11 [==============================] - 0s 4ms/step - loss: 9.5548 - mae: 2.1900 - val_loss: 14.8933 - val_mae: 2.8594\n",
      "Epoch 52/100\n",
      "11/11 [==============================] - 0s 4ms/step - loss: 9.3224 - mae: 2.1413 - val_loss: 14.5920 - val_mae: 2.8079\n",
      "Epoch 53/100\n",
      "11/11 [==============================] - 0s 3ms/step - loss: 9.2770 - mae: 2.1588 - val_loss: 14.6889 - val_mae: 2.8017\n",
      "Epoch 54/100\n",
      "11/11 [==============================] - 0s 3ms/step - loss: 9.1734 - mae: 2.1525 - val_loss: 14.4442 - val_mae: 2.7897\n",
      "Epoch 55/100\n",
      "11/11 [==============================] - 0s 3ms/step - loss: 9.2896 - mae: 2.1395 - val_loss: 14.7513 - val_mae: 2.9066\n",
      "Epoch 56/100\n",
      "11/11 [==============================] - 0s 4ms/step - loss: 9.2577 - mae: 2.1291 - val_loss: 14.3037 - val_mae: 2.7857\n",
      "Epoch 57/100\n",
      "11/11 [==============================] - 0s 3ms/step - loss: 9.1247 - mae: 2.1896 - val_loss: 18.0670 - val_mae: 2.9500\n",
      "Epoch 58/100\n",
      "11/11 [==============================] - 0s 4ms/step - loss: 10.4902 - mae: 2.3918 - val_loss: 18.6129 - val_mae: 2.9948\n",
      "Epoch 59/100\n",
      "11/11 [==============================] - 0s 3ms/step - loss: 9.0972 - mae: 2.1716 - val_loss: 16.4098 - val_mae: 3.0119\n",
      "Epoch 60/100\n",
      "11/11 [==============================] - 0s 4ms/step - loss: 9.4225 - mae: 2.1829 - val_loss: 15.3362 - val_mae: 2.9076\n",
      "Epoch 61/100\n",
      "11/11 [==============================] - 0s 3ms/step - loss: 8.7097 - mae: 2.1267 - val_loss: 15.6741 - val_mae: 2.8275\n",
      "Epoch 62/100\n"
     ]
    },
    {
     "name": "stdout",
     "output_type": "stream",
     "text": [
      "11/11 [==============================] - 0s 3ms/step - loss: 8.9421 - mae: 2.1729 - val_loss: 15.0650 - val_mae: 2.8507\n",
      "Epoch 63/100\n",
      "11/11 [==============================] - 0s 3ms/step - loss: 8.8560 - mae: 2.0874 - val_loss: 14.2284 - val_mae: 2.7495\n",
      "Epoch 64/100\n",
      "11/11 [==============================] - 0s 3ms/step - loss: 8.6678 - mae: 2.0705 - val_loss: 14.6363 - val_mae: 2.7608\n",
      "Epoch 65/100\n",
      "11/11 [==============================] - 0s 3ms/step - loss: 8.3981 - mae: 2.0555 - val_loss: 14.4284 - val_mae: 2.7362\n",
      "Epoch 66/100\n",
      "11/11 [==============================] - 0s 3ms/step - loss: 8.3720 - mae: 2.0522 - val_loss: 14.3921 - val_mae: 2.7373\n",
      "Epoch 67/100\n",
      "11/11 [==============================] - 0s 3ms/step - loss: 8.3213 - mae: 2.0442 - val_loss: 14.3981 - val_mae: 2.7507\n",
      "Epoch 68/100\n",
      "11/11 [==============================] - 0s 3ms/step - loss: 8.3246 - mae: 2.0364 - val_loss: 14.5377 - val_mae: 2.7916\n",
      "Epoch 69/100\n",
      "11/11 [==============================] - 0s 3ms/step - loss: 8.3241 - mae: 2.0377 - val_loss: 14.9646 - val_mae: 2.7678\n",
      "Epoch 70/100\n",
      "11/11 [==============================] - 0s 3ms/step - loss: 8.1811 - mae: 2.0230 - val_loss: 15.1847 - val_mae: 2.8307\n",
      "Epoch 71/100\n",
      "11/11 [==============================] - 0s 3ms/step - loss: 8.1390 - mae: 2.0069 - val_loss: 15.1894 - val_mae: 2.7722\n",
      "Epoch 72/100\n",
      "11/11 [==============================] - 0s 3ms/step - loss: 8.1584 - mae: 2.0183 - val_loss: 15.3261 - val_mae: 2.7755\n",
      "Epoch 73/100\n",
      "11/11 [==============================] - 0s 3ms/step - loss: 8.0988 - mae: 1.9992 - val_loss: 15.0974 - val_mae: 2.8308\n",
      "Epoch 74/100\n",
      "11/11 [==============================] - 0s 3ms/step - loss: 8.2315 - mae: 2.0318 - val_loss: 15.4448 - val_mae: 2.8068\n",
      "Epoch 75/100\n",
      "11/11 [==============================] - 0s 3ms/step - loss: 8.0913 - mae: 2.0251 - val_loss: 15.5874 - val_mae: 2.8037\n",
      "Epoch 76/100\n",
      "11/11 [==============================] - 0s 3ms/step - loss: 7.8793 - mae: 1.9868 - val_loss: 14.9029 - val_mae: 2.7630\n",
      "Epoch 77/100\n",
      "11/11 [==============================] - 0s 4ms/step - loss: 7.8864 - mae: 1.9726 - val_loss: 14.8357 - val_mae: 2.7540\n",
      "Epoch 78/100\n",
      "11/11 [==============================] - 0s 3ms/step - loss: 7.9953 - mae: 1.9691 - val_loss: 14.3793 - val_mae: 2.7083\n",
      "Epoch 79/100\n",
      "11/11 [==============================] - 0s 3ms/step - loss: 7.8009 - mae: 1.9543 - val_loss: 14.7979 - val_mae: 2.7395\n",
      "Epoch 80/100\n",
      "11/11 [==============================] - 0s 3ms/step - loss: 7.7215 - mae: 1.9556 - val_loss: 14.9276 - val_mae: 2.7236\n",
      "Epoch 81/100\n",
      "11/11 [==============================] - 0s 3ms/step - loss: 7.6645 - mae: 1.9450 - val_loss: 14.9511 - val_mae: 2.7397\n",
      "Epoch 82/100\n",
      "11/11 [==============================] - 0s 3ms/step - loss: 7.6330 - mae: 1.9316 - val_loss: 14.8461 - val_mae: 2.7213\n",
      "Epoch 83/100\n",
      "11/11 [==============================] - 0s 3ms/step - loss: 7.8410 - mae: 1.9951 - val_loss: 15.0668 - val_mae: 2.7440\n",
      "Epoch 84/100\n",
      "11/11 [==============================] - 0s 3ms/step - loss: 7.7810 - mae: 1.9226 - val_loss: 13.9568 - val_mae: 2.6719\n",
      "Epoch 85/100\n",
      "11/11 [==============================] - 0s 3ms/step - loss: 7.8814 - mae: 1.9771 - val_loss: 14.7490 - val_mae: 2.6530\n",
      "Epoch 86/100\n",
      "11/11 [==============================] - 0s 3ms/step - loss: 7.5097 - mae: 1.9463 - val_loss: 14.9074 - val_mae: 2.7569\n",
      "Epoch 87/100\n",
      "11/11 [==============================] - 0s 3ms/step - loss: 7.5479 - mae: 1.9359 - val_loss: 14.5363 - val_mae: 2.7102\n",
      "Epoch 88/100\n",
      "11/11 [==============================] - 0s 3ms/step - loss: 7.8877 - mae: 1.9928 - val_loss: 15.2698 - val_mae: 2.6956\n",
      "Epoch 89/100\n",
      "11/11 [==============================] - 0s 3ms/step - loss: 7.3678 - mae: 1.9000 - val_loss: 15.6790 - val_mae: 2.8236\n",
      "Epoch 90/100\n",
      "11/11 [==============================] - 0s 4ms/step - loss: 7.4225 - mae: 1.9196 - val_loss: 14.7308 - val_mae: 2.6746\n",
      "Epoch 91/100\n",
      "11/11 [==============================] - 0s 3ms/step - loss: 7.3119 - mae: 1.8878 - val_loss: 14.5234 - val_mae: 2.6635\n",
      "Epoch 92/100\n",
      "11/11 [==============================] - 0s 3ms/step - loss: 7.2395 - mae: 1.9039 - val_loss: 15.0734 - val_mae: 2.7295\n",
      "Epoch 93/100\n",
      "11/11 [==============================] - 0s 3ms/step - loss: 7.3055 - mae: 1.9007 - val_loss: 14.3357 - val_mae: 2.6229\n",
      "Epoch 94/100\n",
      "11/11 [==============================] - 0s 3ms/step - loss: 7.1917 - mae: 1.8895 - val_loss: 14.3165 - val_mae: 2.6617\n",
      "Epoch 95/100\n",
      "11/11 [==============================] - 0s 3ms/step - loss: 7.2069 - mae: 1.8724 - val_loss: 14.1213 - val_mae: 2.6593\n",
      "Epoch 96/100\n",
      "11/11 [==============================] - 0s 3ms/step - loss: 7.1767 - mae: 1.8806 - val_loss: 14.4818 - val_mae: 2.6205\n",
      "Epoch 97/100\n",
      "11/11 [==============================] - 0s 3ms/step - loss: 7.0244 - mae: 1.8560 - val_loss: 14.7777 - val_mae: 2.6910\n",
      "Epoch 98/100\n",
      "11/11 [==============================] - 0s 3ms/step - loss: 6.9894 - mae: 1.8541 - val_loss: 17.0693 - val_mae: 2.7695\n",
      "Epoch 99/100\n",
      "11/11 [==============================] - 0s 3ms/step - loss: 7.0657 - mae: 1.8688 - val_loss: 16.4246 - val_mae: 2.7465\n",
      "Epoch 100/100\n",
      "11/11 [==============================] - 0s 3ms/step - loss: 6.9222 - mae: 1.8229 - val_loss: 15.5895 - val_mae: 2.7123\n"
     ]
    }
   ],
   "source": [
    "history = model.fit(X_train_scaled, y_train, validation_split=0.2, epochs =100)"
   ]
  },
  {
   "cell_type": "code",
   "execution_count": 13,
   "id": "7b75c606",
   "metadata": {},
   "outputs": [
    {
     "data": {
      "image/png": "[encoded data removed]",
      "text/plain": [
       "<Figure size 432x288 with 1 Axes>"
      ]
     },
     "metadata": {
      "needs_background": "light"
     },
     "output_type": "display_data"
    }
   ],
   "source": [
    "from matplotlib import pyplot as plt\n",
    "#plot the training and validation accuracy and loss at each epoch\n",
    "loss = history.history['loss']\n",
    "val_loss = history.history['val_loss']\n",
    "epochs = range(1, len(loss) + 1)\n",
    "plt.plot(epochs, loss, 'y', label='Training loss')\n",
    "plt.plot(epochs, val_loss, 'r', label='Validation loss')\n",
    "plt.title('Training and validation loss')\n",
    "plt.xlabel('Epochs')\n",
    "plt.ylabel('Loss')\n",
    "plt.legend()\n",
    "plt.show()\n"
   ]
  },
  {
   "cell_type": "code",
   "execution_count": 14,
   "id": "78b1887e",
   "metadata": {},
   "outputs": [
    {
     "name": "stdout",
     "output_type": "stream",
     "text": [
      "4/4 [==============================] - 0s 2ms/step - loss: 26.5345 - mae: 3.1016\n",
      "Mean squared error from neural net:  26.534530639648438\n",
      "Mean absolute error from neural net:  3.101623773574829\n"
     ]
    }
   ],
   "source": [
    "#Neural network - from the current code\n",
    "mse_neural, mae_neural = model.evaluate(X_test_scaled, y_test)\n",
    "print('Mean squared error from neural net: ', mse_neural)\n",
    "print('Mean absolute error from neural net: ', mae_neural)"
   ]
  },
  {
   "cell_type": "code",
   "execution_count": 15,
   "id": "67cbaf4d",
   "metadata": {},
   "outputs": [
    {
     "name": "stdout",
     "output_type": "stream",
     "text": [
      "1/1 [==============================] - 0s 111ms/step\n",
      "Predicted values are:  [[ 7.802572]\n",
      " [18.392782]\n",
      " [20.680792]\n",
      " [33.3337  ]\n",
      " [25.277048]]\n",
      "Real values are:  [ 7.2 18.8 19.  27.  22.2]\n"
     ]
    }
   ],
   "source": [
    "predictions = model.predict(X_test_scaled[:5])\n",
    "print(\"Predicted values are: \", predictions)\n",
    "print(\"Real values are: \", y_test[:5])\n"
   ]
  },
  {
   "cell_type": "code",
   "execution_count": 16,
   "id": "87a7663a",
   "metadata": {},
   "outputs": [
    {
     "name": "stdout",
     "output_type": "stream",
     "text": [
      "Mean squared error from linear regression:  23.195599256422977\n",
      "Mean absolute error from linear regression:  3.4641858124067166\n"
     ]
    }
   ],
   "source": [
    "lr_model = linear_model.LinearRegression()\n",
    "lr_model.fit(X_train_scaled, y_train)\n",
    "y_pred_lr = lr_model.predict(X_test_scaled)\n",
    "mse_lr = mean_squared_error(y_test, y_pred_lr)\n",
    "mae_lr = mean_absolute_error(y_test, y_pred_lr)\n",
    "print('Mean squared error from linear regression: ', mse_lr)\n",
    "print('Mean absolute error from linear regression: ', mae_lr)"
   ]
  },
  {
   "cell_type": "code",
   "execution_count": null,
   "id": "988da876",
   "metadata": {},
   "outputs": [],
   "source": []
  }
 ],
 "metadata": {
  "kernelspec": {
   "display_name": "Python 3 (ipykernel)",
   "language": "python",
   "name": "python3"
  },
  "language_info": {
   "codemirror_mode": {
    "name": "ipython",
    "version": 3
   },
   "file_extension": ".py",
   "mimetype": "text/x-python",
   "name": "python",
   "nbconvert_exporter": "python",
   "pygments_lexer": "ipython3",
   "version": "3.9.12"
  }
 },
 "nbformat": 4,
 "nbformat_minor": 5
}
