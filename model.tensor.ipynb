{
 "cells": [
  {
   "cell_type": "code",
   "execution_count": 4,
   "id": "b268d068",
   "metadata": {},
   "outputs": [],
   "source": [
    "import tensorflow as tf"
   ]
  },
  {
   "cell_type": "code",
   "execution_count": 5,
   "id": "3c1d7c47",
   "metadata": {},
   "outputs": [],
   "source": [
    "mnist=tf.keras.datasets.mnist\n",
    "(x_train,y_train),(x_test,y_test)=mnist.load_data()\n",
    "(x_train,x_test)=x_train/255.0,x_test/255.0"
   ]
  },
  {
   "cell_type": "code",
   "execution_count": 12,
   "id": "7576da54",
   "metadata": {},
   "outputs": [],
   "source": [
    "models=tf.keras.models.Sequential([\n",
    "    tf.keras.layers.Flatten(input_shape=(28,28)),\n",
    "    tf.keras.layers.Dense(512,activation='relu'),\n",
    "    tf.keras.layers.Dense(512,activation='relu'),\n",
    "    tf.keras.layers.Dropout(0.2),\n",
    "    tf.keras.layers.Dense(10,activation='sigmoid')\n",
    "])"
   ]
  },
  {
   "cell_type": "code",
   "execution_count": 13,
   "id": "a0528b9e",
   "metadata": {},
   "outputs": [],
   "source": [
    "models.compile(loss='sparse_categorical_crossentropy',optimizer='SGD',metrics=['accuracy'])"
   ]
  },
  {
   "cell_type": "code",
   "execution_count": 14,
   "id": "d34b50e0",
   "metadata": {},
   "outputs": [
    {
     "name": "stdout",
     "output_type": "stream",
     "text": [
      "Model: \"sequential_2\"\n",
      "_________________________________________________________________\n",
      " Layer (type)                Output Shape              Param #   \n",
      "=================================================================\n",
      " flatten_2 (Flatten)         (None, 784)               0         \n",
      "                                                                 \n",
      " dense_6 (Dense)             (None, 512)               401920    \n",
      "                                                                 \n",
      " dense_7 (Dense)             (None, 512)               262656    \n",
      "                                                                 \n",
      " dropout_2 (Dropout)         (None, 512)               0         \n",
      "                                                                 \n",
      " dense_8 (Dense)             (None, 10)                5130      \n",
      "                                                                 \n",
      "=================================================================\n",
      "Total params: 669,706\n",
      "Trainable params: 669,706\n",
      "Non-trainable params: 0\n",
      "_________________________________________________________________\n"
     ]
    }
   ],
   "source": [
    "models.summary()"
   ]
  },
  {
   "cell_type": "code",
   "execution_count": 15,
   "id": "45b11658",
   "metadata": {},
   "outputs": [],
   "source": [
    "tf_callbacks=tf.keras.callbacks.TensorBoard(log_dir='log/fit',histogram_freq=1)"
   ]
  },
  {
   "cell_type": "code",
   "execution_count": 16,
   "id": "e09f3c27",
   "metadata": {},
   "outputs": [
    {
     "name": "stdout",
     "output_type": "stream",
     "text": [
      "Epoch 1/10\n",
      "3000/3000 [==============================] - 21s 7ms/step - loss: 0.4851 - accuracy: 0.8694 - val_loss: 0.2509 - val_accuracy: 0.9283\n",
      "Epoch 2/10\n",
      "3000/3000 [==============================] - 18s 6ms/step - loss: 0.2408 - accuracy: 0.9301 - val_loss: 0.1948 - val_accuracy: 0.9431\n",
      "Epoch 3/10\n",
      "3000/3000 [==============================] - 15s 5ms/step - loss: 0.1865 - accuracy: 0.9457 - val_loss: 0.1529 - val_accuracy: 0.9549\n",
      "Epoch 4/10\n",
      "3000/3000 [==============================] - 15s 5ms/step - loss: 0.1525 - accuracy: 0.9561 - val_loss: 0.1327 - val_accuracy: 0.9603\n",
      "Epoch 5/10\n",
      "3000/3000 [==============================] - 16s 5ms/step - loss: 0.1287 - accuracy: 0.9628 - val_loss: 0.1152 - val_accuracy: 0.9656\n",
      "Epoch 6/10\n",
      "3000/3000 [==============================] - 16s 5ms/step - loss: 0.1115 - accuracy: 0.9680 - val_loss: 0.1050 - val_accuracy: 0.9680\n",
      "Epoch 7/10\n",
      "3000/3000 [==============================] - 21s 7ms/step - loss: 0.0991 - accuracy: 0.9716 - val_loss: 0.0963 - val_accuracy: 0.9713\n",
      "Epoch 8/10\n",
      "3000/3000 [==============================] - 17s 6ms/step - loss: 0.0878 - accuracy: 0.9750 - val_loss: 0.0867 - val_accuracy: 0.9740\n",
      "Epoch 9/10\n",
      "3000/3000 [==============================] - 18s 6ms/step - loss: 0.0790 - accuracy: 0.9772 - val_loss: 0.0818 - val_accuracy: 0.9750\n",
      "Epoch 10/10\n",
      "3000/3000 [==============================] - 16s 5ms/step - loss: 0.0708 - accuracy: 0.9796 - val_loss: 0.0773 - val_accuracy: 0.9763\n"
     ]
    }
   ],
   "source": [
    "history=models.fit(x_train,y_train,validation_data=(x_test,y_test),epochs=10,batch_size=20,verbose=1,callbacks=tf_callbacks)"
   ]
  },
  {
   "cell_type": "code",
   "execution_count": null,
   "id": "9a714b33",
   "metadata": {},
   "outputs": [],
   "source": []
  }
 ],
 "metadata": {
  "kernelspec": {
   "display_name": "Python 3 (ipykernel)",
   "language": "python",
   "name": "python3"
  },
  "language_info": {
   "codemirror_mode": {
    "name": "ipython",
    "version": 3
   },
   "file_extension": ".py",
   "mimetype": "text/x-python",
   "name": "python",
   "nbconvert_exporter": "python",
   "pygments_lexer": "ipython3",
   "version": "3.9.12"
  }
 },
 "nbformat": 4,
 "nbformat_minor": 5
}
